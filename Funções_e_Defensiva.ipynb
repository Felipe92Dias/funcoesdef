{
 "cells": [
  {
   "cell_type": "code",
   "execution_count": 1,
   "metadata": {
    "collapsed": true
   },
   "outputs": [],
   "source": [
    "import numpy as np\n",
    "#Bliblioteca para Cálculo numérico do Python"
   ]
  },
  {
   "cell_type": "markdown",
   "metadata": {},
   "source": [
    "## Funções\n",
    "### Tarefa - Criando uma função\n",
    "Crie duas funções:\n",
    "- celsius_para_kelvin que recebe a temperatura em Celsius como argumento e retorna a temperatura convertida para Kelvin\n",
    "- kelvin_para_fahr que recebe uma temperatura em Kelvin e a converte para Fahrenheit\n",
    "\n",
    "Lembrando que:\n",
    "- Kelvin = Celsius + 273.15\n",
    "- Fahrenheit = (Kelvin - 273.15)*1.8 + 32"
   ]
  },
  {
   "cell_type": "code",
   "execution_count": 2,
   "metadata": {
    "collapsed": true
   },
   "outputs": [],
   "source": [
    "#Criando a função Celsius para Kelvin\n",
    "def celsius_para_kelvin(temp):\n",
    "#A função recebe a temperatura Celsius como argumento\n",
    "    kelvin = temp + 273.15\n",
    "#Retorna para Kelvin\n",
    "    return kelvin"
   ]
  },
  {
   "cell_type": "code",
   "execution_count": 3,
   "metadata": {
    "collapsed": true
   },
   "outputs": [],
   "source": [
    "#Criando a função Celsius para Fahrenheit\n",
    "def kelvin_para_fahr(temp):\n",
    "#A função recebe a temperatura Kelvin como argumento\n",
    "    fahrenheit = (temp - 273.15)*1.8 + 32\n",
    "#Retorna para fahrenheit\n",
    "    return fahrenheit"
   ]
  },
  {
   "cell_type": "markdown",
   "metadata": {},
   "source": [
    "As células abaixo executam a sua função e comparam com os resultados esperados. Use-as para verificar se a sua função está funcionando (todas as células devem imprimir True)."
   ]
  },
  {
   "cell_type": "code",
   "execution_count": 4,
   "metadata": {
    "collapsed": false
   },
   "outputs": [
    {
     "data": {
      "text/plain": [
       "True"
      ]
     },
     "execution_count": 4,
     "metadata": {},
     "output_type": "execute_result"
    }
   ],
   "source": [
    "# Executada a função e comparada com resultado \n",
    "celsius_para_kelvin(0) == 273.15"
   ]
  },
  {
   "cell_type": "code",
   "execution_count": 5,
   "metadata": {
    "collapsed": false
   },
   "outputs": [
    {
     "data": {
      "text/plain": [
       "277.15"
      ]
     },
     "execution_count": 5,
     "metadata": {},
     "output_type": "execute_result"
    }
   ],
   "source": [
    "celsius_para_kelvin(4)"
   ]
  },
  {
   "cell_type": "code",
   "execution_count": 6,
   "metadata": {
    "collapsed": false
   },
   "outputs": [
    {
     "data": {
      "text/plain": [
       "False"
      ]
     },
     "execution_count": 6,
     "metadata": {},
     "output_type": "execute_result"
    }
   ],
   "source": [
    "celsius_para_kelvin(3) == 300"
   ]
  },
  {
   "cell_type": "code",
   "execution_count": 7,
   "metadata": {
    "collapsed": false
   },
   "outputs": [
    {
     "data": {
      "text/plain": [
       "True"
      ]
     },
     "execution_count": 7,
     "metadata": {},
     "output_type": "execute_result"
    }
   ],
   "source": [
    "celsius_para_kelvin(10) == 283.15"
   ]
  },
  {
   "cell_type": "code",
   "execution_count": 8,
   "metadata": {
    "collapsed": false
   },
   "outputs": [
    {
     "data": {
      "text/plain": [
       "True"
      ]
     },
     "execution_count": 8,
     "metadata": {},
     "output_type": "execute_result"
    }
   ],
   "source": [
    "# Executada a função e comparada com resultado\n",
    "kelvin_para_fahr(273.15) == 32"
   ]
  },
  {
   "cell_type": "code",
   "execution_count": 9,
   "metadata": {
    "collapsed": false
   },
   "outputs": [
    {
     "data": {
      "text/plain": [
       "-457.86999999999995"
      ]
     },
     "execution_count": 9,
     "metadata": {},
     "output_type": "execute_result"
    }
   ],
   "source": [
    "kelvin_para_fahr(1)"
   ]
  },
  {
   "cell_type": "code",
   "execution_count": 10,
   "metadata": {
    "collapsed": false
   },
   "outputs": [
    {
     "data": {
      "text/plain": [
       "True"
      ]
     },
     "execution_count": 10,
     "metadata": {},
     "output_type": "execute_result"
    }
   ],
   "source": [
    "kelvin_para_fahr(273.15) == 32"
   ]
  },
  {
   "cell_type": "code",
   "execution_count": 11,
   "metadata": {
    "collapsed": false
   },
   "outputs": [
    {
     "data": {
      "text/plain": [
       "-459.66999999999996"
      ]
     },
     "execution_count": 11,
     "metadata": {},
     "output_type": "execute_result"
    }
   ],
   "source": [
    "kelvin_para_fahr(0) "
   ]
  },
  {
   "cell_type": "code",
   "execution_count": 12,
   "metadata": {
    "collapsed": false
   },
   "outputs": [
    {
     "data": {
      "text/plain": [
       "False"
      ]
     },
     "execution_count": 12,
     "metadata": {},
     "output_type": "execute_result"
    }
   ],
   "source": [
    "kelvin_para_fahr(30) == 0"
   ]
  },
  {
   "cell_type": "markdown",
   "metadata": {},
   "source": [
    "# Tarefa - Compondo funções\n",
    "\n",
    "Crie uma função chamada celsius_para_fahr que recebe a temperatura em Celsius e retorna a temperatura em Fahrenheit. Você deve obrigatoriamente utilizar as duas funções criadas anteriormente para calcular o resultado.\n"
   ]
  },
  {
   "cell_type": "code",
   "execution_count": 15,
   "metadata": {
    "collapsed": true
   },
   "outputs": [],
   "source": [
    "# Criada a função celsius para fahrenheit\n",
    "def celsius_para_fahr(temp):\n",
    "# A função recebe a temperatura Celsius como argumento\n",
    "    fahrenheit = (temp)* 1.8 + 32\n",
    "# Retorna para Fahrenheit\n",
    "    return fahrenheit"
   ]
  },
  {
   "cell_type": "markdown",
   "metadata": {},
   "source": [
    "As células abaixo executam a sua função e comparam com os resultados esperados. Use-as para verificar se a sua função está funcionando (todas as células devem imprimir True)."
   ]
  },
  {
   "cell_type": "code",
   "execution_count": 16,
   "metadata": {
    "collapsed": false
   },
   "outputs": [
    {
     "data": {
      "text/plain": [
       "True"
      ]
     },
     "execution_count": 16,
     "metadata": {},
     "output_type": "execute_result"
    }
   ],
   "source": [
    "# Executada a função e comparada com o resultado\n",
    "celsius_para_fahr(0) == 32"
   ]
  },
  {
   "cell_type": "code",
   "execution_count": 17,
   "metadata": {
    "collapsed": false
   },
   "outputs": [
    {
     "data": {
      "text/plain": [
       "True"
      ]
     },
     "execution_count": 17,
     "metadata": {},
     "output_type": "execute_result"
    }
   ],
   "source": [
    "# Executada a função e comparada com o resultado\n",
    "celsius_para_fahr(100) == 212"
   ]
  },
  {
   "cell_type": "markdown",
   "metadata": {},
   "source": [
    "### Tarefa - Documentando funções\n",
    "Faça as funções acima novamente (com o mesmo nome), dessa vez criando docstrings para essas funções. A docstring da função deve ser no formato:\n",
    "- def minha_funcao(coisa1, coisa2):\n",
    "  \n",
    "  - Calcula/faz tal e tal coisa utilizando a formula de tal\n",
    "  e assumindo que tal.\n",
    "\n",
    "- Exemplos:\n",
    "    - minha_funcao(10, 20) => 1345\n",
    "    - minha_funcao(34, 42) => 145\n",
    "   "
   ]
  },
  {
   "cell_type": "code",
   "execution_count": 18,
   "metadata": {
    "collapsed": true
   },
   "outputs": [],
   "source": [
    "# Criada a função celsius para kelvin\n",
    "def celsius_para_kelvin(temp):\n",
    "# Feito um docstring que fornece um comentário sobre o funcionamento da função\n",
    "    \"\"\"\n",
    "    Converte as temperaturas (temp) da escala celsius para kelvin\n",
    "    \"\"\"\n",
    "# A função recebe a temperatura Celsius como argumento \n",
    "    kelvin = temp + 273.15\n",
    "# Retornada para Kelvin \n",
    "    return kelvin"
   ]
  },
  {
   "cell_type": "code",
   "execution_count": 19,
   "metadata": {
    "collapsed": true
   },
   "outputs": [],
   "source": [
    "# Criada a função kelvin para fahrenheit\n",
    "def kelvin_para_fahr(temp):\n",
    "# Feito um docstring que fornece um comentário sobre o funcionamento da função\n",
    "    \"\"\"\n",
    "    Converte as temperaturas (temp) da escala kelvin para fahrenheit\n",
    "    \"\"\"\n",
    "# A função recebe a temperatura Kelvin como argumento   \n",
    "    fahrenheit = (temp -273.15)* 1.8 + 32\n",
    "# Retornada para Fahrenheit\n",
    "    return fahrenheit"
   ]
  },
  {
   "cell_type": "code",
   "execution_count": 39,
   "metadata": {
    "collapsed": true
   },
   "outputs": [],
   "source": [
    "# Criada a função celsius para fahrenheit\n",
    "def celsius_para_fahr(temp):\n",
    "# Feito um docstring que fornece um comentário sobre o funcionamento da função\n",
    "    \"\"\"\n",
    "    Converte as temperaturas (temp) da escala celsius para fahrenheit\n",
    "    \"\"\"\n",
    "# A função recebe a temperatura Celsius como argumento\n",
    "    fahrenheit = (temp)* 1.8 + 32\n",
    "# Retornada para Fahrenheit    \n",
    "    return fahrenheit"
   ]
  },
  {
   "cell_type": "markdown",
   "metadata": {},
   "source": [
    "As células abaixo imprimem as docstrings de cada uma das funções."
   ]
  },
  {
   "cell_type": "code",
   "execution_count": 40,
   "metadata": {
    "collapsed": false
   },
   "outputs": [
    {
     "name": "stdout",
     "output_type": "stream",
     "text": [
      "Help on function celsius_para_kelvin in module __main__:\n",
      "\n",
      "celsius_para_kelvin(temp)\n",
      "    Converte as temperaturas (temp) da escala celsius para kelvin\n",
      "\n"
     ]
    }
   ],
   "source": [
    "# Esse docstring fornece uma explicação para o funcionamento da função\n",
    "help(celsius_para_kelvin)"
   ]
  },
  {
   "cell_type": "code",
   "execution_count": 41,
   "metadata": {
    "collapsed": false
   },
   "outputs": [
    {
     "name": "stdout",
     "output_type": "stream",
     "text": [
      "Help on function kelvin_para_fahr in module __main__:\n",
      "\n",
      "kelvin_para_fahr(temp)\n",
      "    Converte as temperaturas (temp) da escala kelvin para fahrenheit\n",
      "\n"
     ]
    }
   ],
   "source": [
    "# Esse docstring fornece uma explicação para o funcionamento da função\n",
    "help(kelvin_para_fahr)"
   ]
  },
  {
   "cell_type": "code",
   "execution_count": 42,
   "metadata": {
    "collapsed": false
   },
   "outputs": [
    {
     "name": "stdout",
     "output_type": "stream",
     "text": [
      "Help on function celsius_para_fahr in module __main__:\n",
      "\n",
      "celsius_para_fahr(temp)\n",
      "    Converte as temperaturas (temp) da escala celsius para fahrenheit\n",
      "\n"
     ]
    }
   ],
   "source": [
    "# Esse docstring fornece uma explicação para o funcionamento da função\n",
    "help(celsius_para_fahr)"
   ]
  },
  {
   "cell_type": "code",
   "execution_count": null,
   "metadata": {
    "collapsed": true
   },
   "outputs": [],
   "source": []
  },
  {
   "cell_type": "code",
   "execution_count": null,
   "metadata": {
    "collapsed": true
   },
   "outputs": [],
   "source": []
  }
 ],
 "metadata": {
  "anaconda-cloud": {},
  "kernelspec": {
   "display_name": "Python [Root]",
   "language": "python",
   "name": "Python [Root]"
  },
  "language_info": {
   "codemirror_mode": {
    "name": "ipython",
    "version": 3
   },
   "file_extension": ".py",
   "mimetype": "text/x-python",
   "name": "python",
   "nbconvert_exporter": "python",
   "pygments_lexer": "ipython3",
   "version": "3.5.2"
  }
 },
 "nbformat": 4,
 "nbformat_minor": 0
}
